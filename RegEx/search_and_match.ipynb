{
 "cells": [
  {
   "cell_type": "code",
   "execution_count": 28,
   "metadata": {},
   "outputs": [
    {
     "name": "stdout",
     "output_type": "stream",
     "text": [
      "<class 're.Pattern'>\n",
      "<re.Match object; span=(20, 27), match='sumanth'>\n",
      "<re.Match object; span=(20, 27), match='sumanth'>\n",
      "<re.Match object; span=(20, 27), match='sumanth'>\n"
     ]
    }
   ],
   "source": [
    "import re\n",
    "\"\"\"\n",
    "Regular Expressions package is downloaded by \n",
    "import re\n",
    "\"\"\"\n",
    "#Normal Examples of Regular Expressions\n",
    "test_main_string=\"Namaste World, I am sumanth\"\n",
    "# Compile converts a string in to an pattern object\n",
    "test_pttern_object=re.compile(r\"sumanth\")\n",
    "test_pattern_string=\"sumanth\"\n",
    "print(type(test_pttern_object))\n",
    "\"\"\"\n",
    "Here search is only find first pattern where ever it in the string\n",
    "\"\"\"\n",
    "print(re.search(test_pttern_object,test_main_string))\n",
    "print(re.search(test_pattern_string,test_main_string))\n",
    "#The following can't b edone with the test_pattern_string\n",
    "print(test_pttern_object.search(test_main_string))"
   ]
  },
  {
   "cell_type": "code",
   "execution_count": 29,
   "metadata": {},
   "outputs": [
    {
     "name": "stdout",
     "output_type": "stream",
     "text": [
      "<re.Match object; span=(0, 7), match='Namaste'>\n",
      "<re.Match object; span=(0, 7), match='Namaste'>\n",
      "<re.Match object; span=(0, 7), match='Namaste'>\n"
     ]
    }
   ],
   "source": [
    "test_pattern2=\"Namaste\"\n",
    "test_object2=re.compile(r\"Namaste\")\n",
    "print(re.match(test_pattern2,test_main_string))\n",
    "print(re.match(test_object2,test_main_string))\n",
    "#The following can't b edone with the test_object2\n",
    "print(test_object2.match(test_main_string))"
   ]
  },
  {
   "cell_type": "code",
   "execution_count": null,
   "metadata": {},
   "outputs": [],
   "source": []
  }
 ],
 "metadata": {
  "kernelspec": {
   "display_name": "Python 3",
   "language": "python",
   "name": "python3"
  },
  "language_info": {
   "codemirror_mode": {
    "name": "ipython",
    "version": 3
   },
   "file_extension": ".py",
   "mimetype": "text/x-python",
   "name": "python",
   "nbconvert_exporter": "python",
   "pygments_lexer": "ipython3",
   "version": "3.11.5"
  }
 },
 "nbformat": 4,
 "nbformat_minor": 2
}
